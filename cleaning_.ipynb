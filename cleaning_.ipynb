{
 "cells": [
  {
   "cell_type": "markdown",
   "metadata": {},
   "source": [
    "# CLEANING"
   ]
  },
  {
   "cell_type": "code",
   "execution_count": 1,
   "metadata": {},
   "outputs": [],
   "source": [
    "import numpy as np\n",
    "import pandas as pd\n",
    "import seaborn as sns\n",
    "import pickle\n",
    "import time\n",
    "\n",
    "import matplotlib.pyplot as plt\n",
    "plt.style.use('dark_background')\n",
    "%matplotlib inline\n",
    "\n",
    "import math\n",
    "from collections import Counter"
   ]
  },
  {
   "cell_type": "code",
   "execution_count": 2,
   "metadata": {},
   "outputs": [],
   "source": [
    "ac = pd.read_csv(\"C:/Users/HP NOTEBOOK/Desktop/project/Accident_Information.csv\",encoding='latin1', low_memory=False, chunksize=30000)\n",
    "vc = pd.read_csv(\"C:/Users/HP NOTEBOOK/Desktop/project/Vehicle_Information.csv\",encoding='latin1', low_memory=False, chunksize=30000)"
   ]
  },
  {
   "cell_type": "code",
   "execution_count": 3,
   "metadata": {},
   "outputs": [],
   "source": [
    "acchunk = []\n",
    "for chunk in ac:\n",
    "    acchunk_filter = chunk[\n",
    "        (chunk.Year.astype(int) >= 2010) &\n",
    "        (chunk.Year.astype(int) <= 2017) &\n",
    "        (chunk['Road_Type'] != \"Unknown\") &\n",
    "        (chunk['Junction_Control'] != \"Data missing or out of range\") &\n",
    "        (chunk['Carriageway_Hazards'] != \"Data missing or out of range\") &\n",
    "        (chunk['Junction_Detail'] != \"Data missing or out of range\") &\n",
    "        (chunk['Road_Surface_Conditions'] != \"Data missing or out of range\") &\n",
    "        (chunk['Special_Conditions_at_Site'] != \"Data missing or out of range\") &\n",
    "        (chunk['Weather_Conditions'] != \"Data missing or out of range\") &\n",
    "        (chunk['Latitude'].notnull()) &\n",
    "        (chunk['Longitude'].notnull())\n",
    "    ]\n",
    "    acchunk.append(acchunk_filter)\n",
    "acci1 = pd.concat(acchunk)"
   ]
  },
  {
   "cell_type": "code",
   "execution_count": 4,
   "metadata": {},
   "outputs": [],
   "source": [
    "vcchunk = []\n",
    "for chunk2 in vc:\n",
    "    vcchunk_filter = chunk2[\n",
    "        (chunk2.Year.astype(int) >= 2010)&\n",
    "        (chunk2.Year.astype(int) <= 2017) &\n",
    "        (chunk2['Driver_Home_Area_Type'] != \"Data missing or out of range\") &\n",
    "        (chunk2['Journey_Purpose_of_Driver'] != \"Data missing or out of range\") &\n",
    "        (chunk2['Junction_Location'] != \"Data missing or out of range\") &\n",
    "        (chunk2['Was_Vehicle_Left_Hand_Drive'] != \"Data missing or out of range\") &\n",
    "        (chunk2['Hit_Object_in_Carriageway'] != \"Data missing or out of range\") &\n",
    "        (chunk2['Skidding_and_Overturning'] != \"Data missing or out of range\") &\n",
    "        (chunk2['Towing_and_Articulation'] != \"Data missing or out of range\") &\n",
    "        (chunk2['Vehicle_Leaving_Carriageway'] != \"Data missing or out of range\") &\n",
    "        (chunk2['Vehicle_Manoeuvre'] != \"Data missing or out of range\") &\n",
    "        (chunk2['Vehicle_Type'] != \"Data missing or out of range\") &\n",
    "        (chunk2['X1st_Point_of_Impact'] != \"Data missing or out of range\") &\n",
    "        (chunk2['Sex_of_Driver'] != \"Data missing or out of range\") &\n",
    "        (chunk2['Age_Band_of_Driver'] != \"Data missing or out of range\")\n",
    "        \n",
    "    ]\n",
    "    vcchunk.append(vcchunk_filter)\n",
    "acci2 = pd.concat(vcchunk)"
   ]
  },
  {
   "cell_type": "code",
   "execution_count": 5,
   "metadata": {},
   "outputs": [
    {
     "name": "stdout",
     "output_type": "stream",
     "text": [
      "Accident's Columns:\n",
      " Index(['Accident_Index', '1st_Road_Class', '1st_Road_Number', '2nd_Road_Class',\n",
      "       '2nd_Road_Number', 'Accident_Severity', 'Carriageway_Hazards', 'Date',\n",
      "       'Day_of_Week', 'Did_Police_Officer_Attend_Scene_of_Accident',\n",
      "       'Junction_Control', 'Junction_Detail', 'Latitude', 'Light_Conditions',\n",
      "       'Local_Authority_(District)', 'Local_Authority_(Highway)',\n",
      "       'Location_Easting_OSGR', 'Location_Northing_OSGR', 'Longitude',\n",
      "       'LSOA_of_Accident_Location', 'Number_of_Casualties',\n",
      "       'Number_of_Vehicles', 'Pedestrian_Crossing-Human_Control',\n",
      "       'Pedestrian_Crossing-Physical_Facilities', 'Police_Force',\n",
      "       'Road_Surface_Conditions', 'Road_Type', 'Special_Conditions_at_Site',\n",
      "       'Speed_limit', 'Time', 'Urban_or_Rural_Area', 'Weather_Conditions',\n",
      "       'Year', 'InScotland'],\n",
      "      dtype='object') \n",
      "\n",
      "Vehicle's Columns:\n",
      " Index(['Accident_Index', 'Age_Band_of_Driver', 'Age_of_Vehicle',\n",
      "       'Driver_Home_Area_Type', 'Driver_IMD_Decile', 'Engine_Capacity_.CC.',\n",
      "       'Hit_Object_in_Carriageway', 'Hit_Object_off_Carriageway',\n",
      "       'Journey_Purpose_of_Driver', 'Junction_Location', 'make', 'model',\n",
      "       'Propulsion_Code', 'Sex_of_Driver', 'Skidding_and_Overturning',\n",
      "       'Towing_and_Articulation', 'Vehicle_Leaving_Carriageway',\n",
      "       'Vehicle_Location.Restricted_Lane', 'Vehicle_Manoeuvre',\n",
      "       'Vehicle_Reference', 'Vehicle_Type', 'Was_Vehicle_Left_Hand_Drive',\n",
      "       'X1st_Point_of_Impact', 'Year'],\n",
      "      dtype='object')\n"
     ]
    }
   ],
   "source": [
    "print(\"Accident's Columns:\\n\",acci1.columns, \"\\n\")\n",
    "print(\"Vehicle's Columns:\\n\",acci2.columns)"
   ]
  },
  {
   "cell_type": "code",
   "execution_count": 6,
   "metadata": {},
   "outputs": [
    {
     "name": "stdout",
     "output_type": "stream",
     "text": [
      "Accident Shape (691195, 34)\n",
      "Vehicle Shape (1167198, 24)\n"
     ]
    }
   ],
   "source": [
    "print('Accident Shape', acci1.shape)\n",
    "print('Vehicle Shape',acci2.shape)"
   ]
  },
  {
   "cell_type": "code",
   "execution_count": 7,
   "metadata": {},
   "outputs": [],
   "source": [
    "acci = pd.merge(acci1,acci2)"
   ]
  },
  {
   "cell_type": "code",
   "execution_count": 8,
   "metadata": {},
   "outputs": [
    {
     "name": "stdout",
     "output_type": "stream",
     "text": [
      "Names of Combined Columns:\n",
      " Index(['Accident_Index', '1st_Road_Class', '1st_Road_Number', '2nd_Road_Class',\n",
      "       '2nd_Road_Number', 'Accident_Severity', 'Carriageway_Hazards', 'Date',\n",
      "       'Day_of_Week', 'Did_Police_Officer_Attend_Scene_of_Accident',\n",
      "       'Junction_Control', 'Junction_Detail', 'Latitude', 'Light_Conditions',\n",
      "       'Local_Authority_(District)', 'Local_Authority_(Highway)',\n",
      "       'Location_Easting_OSGR', 'Location_Northing_OSGR', 'Longitude',\n",
      "       'LSOA_of_Accident_Location', 'Number_of_Casualties',\n",
      "       'Number_of_Vehicles', 'Pedestrian_Crossing-Human_Control',\n",
      "       'Pedestrian_Crossing-Physical_Facilities', 'Police_Force',\n",
      "       'Road_Surface_Conditions', 'Road_Type', 'Special_Conditions_at_Site',\n",
      "       'Speed_limit', 'Time', 'Urban_or_Rural_Area', 'Weather_Conditions',\n",
      "       'Year', 'InScotland', 'Age_Band_of_Driver', 'Age_of_Vehicle',\n",
      "       'Driver_Home_Area_Type', 'Driver_IMD_Decile', 'Engine_Capacity_.CC.',\n",
      "       'Hit_Object_in_Carriageway', 'Hit_Object_off_Carriageway',\n",
      "       'Journey_Purpose_of_Driver', 'Junction_Location', 'make', 'model',\n",
      "       'Propulsion_Code', 'Sex_of_Driver', 'Skidding_and_Overturning',\n",
      "       'Towing_and_Articulation', 'Vehicle_Leaving_Carriageway',\n",
      "       'Vehicle_Location.Restricted_Lane', 'Vehicle_Manoeuvre',\n",
      "       'Vehicle_Reference', 'Vehicle_Type', 'Was_Vehicle_Left_Hand_Drive',\n",
      "       'X1st_Point_of_Impact'],\n",
      "      dtype='object') \n",
      "\n",
      "\n",
      "Shape:\n",
      " (720280, 56)\n"
     ]
    }
   ],
   "source": [
    "#check columns\n",
    "print(\"Names of Combined Columns:\\n\",acci.columns, \"\\n\")\n",
    "print(\"\\nShape:\\n\",acci.shape)"
   ]
  },
  {
   "cell_type": "code",
   "execution_count": 9,
   "metadata": {},
   "outputs": [
    {
     "data": {
      "text/html": [
       "<div>\n",
       "<style scoped>\n",
       "    .dataframe tbody tr th:only-of-type {\n",
       "        vertical-align: middle;\n",
       "    }\n",
       "\n",
       "    .dataframe tbody tr th {\n",
       "        vertical-align: top;\n",
       "    }\n",
       "\n",
       "    .dataframe thead th {\n",
       "        text-align: right;\n",
       "    }\n",
       "</style>\n",
       "<table border=\"1\" class=\"dataframe\">\n",
       "  <thead>\n",
       "    <tr style=\"text-align: right;\">\n",
       "      <th></th>\n",
       "      <th>Accident_Index</th>\n",
       "      <th>1st_Road_Class</th>\n",
       "      <th>1st_Road_Number</th>\n",
       "      <th>2nd_Road_Class</th>\n",
       "      <th>2nd_Road_Number</th>\n",
       "      <th>Accident_Severity</th>\n",
       "      <th>Carriageway_Hazards</th>\n",
       "      <th>Date</th>\n",
       "      <th>Day_of_Week</th>\n",
       "      <th>Did_Police_Officer_Attend_Scene_of_Accident</th>\n",
       "      <th>...</th>\n",
       "      <th>Sex_of_Driver</th>\n",
       "      <th>Skidding_and_Overturning</th>\n",
       "      <th>Towing_and_Articulation</th>\n",
       "      <th>Vehicle_Leaving_Carriageway</th>\n",
       "      <th>Vehicle_Location.Restricted_Lane</th>\n",
       "      <th>Vehicle_Manoeuvre</th>\n",
       "      <th>Vehicle_Reference</th>\n",
       "      <th>Vehicle_Type</th>\n",
       "      <th>Was_Vehicle_Left_Hand_Drive</th>\n",
       "      <th>X1st_Point_of_Impact</th>\n",
       "    </tr>\n",
       "  </thead>\n",
       "  <tbody>\n",
       "    <tr>\n",
       "      <th>count</th>\n",
       "      <td>720280</td>\n",
       "      <td>720280</td>\n",
       "      <td>720280.000000</td>\n",
       "      <td>699431</td>\n",
       "      <td>710979.000000</td>\n",
       "      <td>720280</td>\n",
       "      <td>720280</td>\n",
       "      <td>720280</td>\n",
       "      <td>720280</td>\n",
       "      <td>720279.000000</td>\n",
       "      <td>...</td>\n",
       "      <td>720280</td>\n",
       "      <td>720280</td>\n",
       "      <td>720280</td>\n",
       "      <td>720280</td>\n",
       "      <td>720269.000000</td>\n",
       "      <td>720280</td>\n",
       "      <td>720280.000000</td>\n",
       "      <td>720280</td>\n",
       "      <td>720280</td>\n",
       "      <td>720280</td>\n",
       "    </tr>\n",
       "    <tr>\n",
       "      <th>unique</th>\n",
       "      <td>488010</td>\n",
       "      <td>6</td>\n",
       "      <td>NaN</td>\n",
       "      <td>6</td>\n",
       "      <td>NaN</td>\n",
       "      <td>3</td>\n",
       "      <td>6</td>\n",
       "      <td>2557</td>\n",
       "      <td>7</td>\n",
       "      <td>NaN</td>\n",
       "      <td>...</td>\n",
       "      <td>3</td>\n",
       "      <td>6</td>\n",
       "      <td>6</td>\n",
       "      <td>9</td>\n",
       "      <td>NaN</td>\n",
       "      <td>18</td>\n",
       "      <td>NaN</td>\n",
       "      <td>20</td>\n",
       "      <td>2</td>\n",
       "      <td>5</td>\n",
       "    </tr>\n",
       "    <tr>\n",
       "      <th>top</th>\n",
       "      <td>2016140142191</td>\n",
       "      <td>A</td>\n",
       "      <td>NaN</td>\n",
       "      <td>Unclassified</td>\n",
       "      <td>NaN</td>\n",
       "      <td>Slight</td>\n",
       "      <td>None</td>\n",
       "      <td>2015-05-13</td>\n",
       "      <td>Friday</td>\n",
       "      <td>NaN</td>\n",
       "      <td>...</td>\n",
       "      <td>Male</td>\n",
       "      <td>None</td>\n",
       "      <td>No tow/articulation</td>\n",
       "      <td>Did not leave carriageway</td>\n",
       "      <td>NaN</td>\n",
       "      <td>Going ahead other</td>\n",
       "      <td>NaN</td>\n",
       "      <td>Car</td>\n",
       "      <td>No</td>\n",
       "      <td>Front</td>\n",
       "    </tr>\n",
       "    <tr>\n",
       "      <th>freq</th>\n",
       "      <td>15</td>\n",
       "      <td>365390</td>\n",
       "      <td>NaN</td>\n",
       "      <td>473098</td>\n",
       "      <td>NaN</td>\n",
       "      <td>626656</td>\n",
       "      <td>714068</td>\n",
       "      <td>515</td>\n",
       "      <td>119324</td>\n",
       "      <td>NaN</td>\n",
       "      <td>...</td>\n",
       "      <td>484205</td>\n",
       "      <td>659742</td>\n",
       "      <td>713570</td>\n",
       "      <td>663463</td>\n",
       "      <td>NaN</td>\n",
       "      <td>314008</td>\n",
       "      <td>NaN</td>\n",
       "      <td>534189</td>\n",
       "      <td>719140</td>\n",
       "      <td>354438</td>\n",
       "    </tr>\n",
       "    <tr>\n",
       "      <th>mean</th>\n",
       "      <td>NaN</td>\n",
       "      <td>NaN</td>\n",
       "      <td>1051.470728</td>\n",
       "      <td>NaN</td>\n",
       "      <td>607.761499</td>\n",
       "      <td>NaN</td>\n",
       "      <td>NaN</td>\n",
       "      <td>NaN</td>\n",
       "      <td>NaN</td>\n",
       "      <td>1.147353</td>\n",
       "      <td>...</td>\n",
       "      <td>NaN</td>\n",
       "      <td>NaN</td>\n",
       "      <td>NaN</td>\n",
       "      <td>NaN</td>\n",
       "      <td>0.086026</td>\n",
       "      <td>NaN</td>\n",
       "      <td>1.506420</td>\n",
       "      <td>NaN</td>\n",
       "      <td>NaN</td>\n",
       "      <td>NaN</td>\n",
       "    </tr>\n",
       "    <tr>\n",
       "      <th>std</th>\n",
       "      <td>NaN</td>\n",
       "      <td>NaN</td>\n",
       "      <td>1825.784600</td>\n",
       "      <td>NaN</td>\n",
       "      <td>1593.978070</td>\n",
       "      <td>NaN</td>\n",
       "      <td>NaN</td>\n",
       "      <td>NaN</td>\n",
       "      <td>NaN</td>\n",
       "      <td>0.357791</td>\n",
       "      <td>...</td>\n",
       "      <td>NaN</td>\n",
       "      <td>NaN</td>\n",
       "      <td>NaN</td>\n",
       "      <td>NaN</td>\n",
       "      <td>0.784117</td>\n",
       "      <td>NaN</td>\n",
       "      <td>0.644346</td>\n",
       "      <td>NaN</td>\n",
       "      <td>NaN</td>\n",
       "      <td>NaN</td>\n",
       "    </tr>\n",
       "    <tr>\n",
       "      <th>min</th>\n",
       "      <td>NaN</td>\n",
       "      <td>NaN</td>\n",
       "      <td>0.000000</td>\n",
       "      <td>NaN</td>\n",
       "      <td>0.000000</td>\n",
       "      <td>NaN</td>\n",
       "      <td>NaN</td>\n",
       "      <td>NaN</td>\n",
       "      <td>NaN</td>\n",
       "      <td>1.000000</td>\n",
       "      <td>...</td>\n",
       "      <td>NaN</td>\n",
       "      <td>NaN</td>\n",
       "      <td>NaN</td>\n",
       "      <td>NaN</td>\n",
       "      <td>0.000000</td>\n",
       "      <td>NaN</td>\n",
       "      <td>1.000000</td>\n",
       "      <td>NaN</td>\n",
       "      <td>NaN</td>\n",
       "      <td>NaN</td>\n",
       "    </tr>\n",
       "    <tr>\n",
       "      <th>25%</th>\n",
       "      <td>NaN</td>\n",
       "      <td>NaN</td>\n",
       "      <td>0.000000</td>\n",
       "      <td>NaN</td>\n",
       "      <td>0.000000</td>\n",
       "      <td>NaN</td>\n",
       "      <td>NaN</td>\n",
       "      <td>NaN</td>\n",
       "      <td>NaN</td>\n",
       "      <td>1.000000</td>\n",
       "      <td>...</td>\n",
       "      <td>NaN</td>\n",
       "      <td>NaN</td>\n",
       "      <td>NaN</td>\n",
       "      <td>NaN</td>\n",
       "      <td>0.000000</td>\n",
       "      <td>NaN</td>\n",
       "      <td>1.000000</td>\n",
       "      <td>NaN</td>\n",
       "      <td>NaN</td>\n",
       "      <td>NaN</td>\n",
       "    </tr>\n",
       "    <tr>\n",
       "      <th>50%</th>\n",
       "      <td>NaN</td>\n",
       "      <td>NaN</td>\n",
       "      <td>191.000000</td>\n",
       "      <td>NaN</td>\n",
       "      <td>0.000000</td>\n",
       "      <td>NaN</td>\n",
       "      <td>NaN</td>\n",
       "      <td>NaN</td>\n",
       "      <td>NaN</td>\n",
       "      <td>1.000000</td>\n",
       "      <td>...</td>\n",
       "      <td>NaN</td>\n",
       "      <td>NaN</td>\n",
       "      <td>NaN</td>\n",
       "      <td>NaN</td>\n",
       "      <td>0.000000</td>\n",
       "      <td>NaN</td>\n",
       "      <td>1.000000</td>\n",
       "      <td>NaN</td>\n",
       "      <td>NaN</td>\n",
       "      <td>NaN</td>\n",
       "    </tr>\n",
       "    <tr>\n",
       "      <th>75%</th>\n",
       "      <td>NaN</td>\n",
       "      <td>NaN</td>\n",
       "      <td>900.000000</td>\n",
       "      <td>NaN</td>\n",
       "      <td>173.000000</td>\n",
       "      <td>NaN</td>\n",
       "      <td>NaN</td>\n",
       "      <td>NaN</td>\n",
       "      <td>NaN</td>\n",
       "      <td>1.000000</td>\n",
       "      <td>...</td>\n",
       "      <td>NaN</td>\n",
       "      <td>NaN</td>\n",
       "      <td>NaN</td>\n",
       "      <td>NaN</td>\n",
       "      <td>0.000000</td>\n",
       "      <td>NaN</td>\n",
       "      <td>2.000000</td>\n",
       "      <td>NaN</td>\n",
       "      <td>NaN</td>\n",
       "      <td>NaN</td>\n",
       "    </tr>\n",
       "    <tr>\n",
       "      <th>max</th>\n",
       "      <td>NaN</td>\n",
       "      <td>NaN</td>\n",
       "      <td>9999.000000</td>\n",
       "      <td>NaN</td>\n",
       "      <td>9999.000000</td>\n",
       "      <td>NaN</td>\n",
       "      <td>NaN</td>\n",
       "      <td>NaN</td>\n",
       "      <td>NaN</td>\n",
       "      <td>3.000000</td>\n",
       "      <td>...</td>\n",
       "      <td>NaN</td>\n",
       "      <td>NaN</td>\n",
       "      <td>NaN</td>\n",
       "      <td>NaN</td>\n",
       "      <td>9.000000</td>\n",
       "      <td>NaN</td>\n",
       "      <td>91.000000</td>\n",
       "      <td>NaN</td>\n",
       "      <td>NaN</td>\n",
       "      <td>NaN</td>\n",
       "    </tr>\n",
       "  </tbody>\n",
       "</table>\n",
       "<p>11 rows × 56 columns</p>\n",
       "</div>"
      ],
      "text/plain": [
       "       Accident_Index 1st_Road_Class  1st_Road_Number 2nd_Road_Class  \\\n",
       "count          720280         720280    720280.000000         699431   \n",
       "unique         488010              6              NaN              6   \n",
       "top     2016140142191              A              NaN   Unclassified   \n",
       "freq               15         365390              NaN         473098   \n",
       "mean              NaN            NaN      1051.470728            NaN   \n",
       "std               NaN            NaN      1825.784600            NaN   \n",
       "min               NaN            NaN         0.000000            NaN   \n",
       "25%               NaN            NaN         0.000000            NaN   \n",
       "50%               NaN            NaN       191.000000            NaN   \n",
       "75%               NaN            NaN       900.000000            NaN   \n",
       "max               NaN            NaN      9999.000000            NaN   \n",
       "\n",
       "        2nd_Road_Number Accident_Severity Carriageway_Hazards        Date  \\\n",
       "count     710979.000000            720280              720280      720280   \n",
       "unique              NaN                 3                   6        2557   \n",
       "top                 NaN            Slight                None  2015-05-13   \n",
       "freq                NaN            626656              714068         515   \n",
       "mean         607.761499               NaN                 NaN         NaN   \n",
       "std         1593.978070               NaN                 NaN         NaN   \n",
       "min            0.000000               NaN                 NaN         NaN   \n",
       "25%            0.000000               NaN                 NaN         NaN   \n",
       "50%            0.000000               NaN                 NaN         NaN   \n",
       "75%          173.000000               NaN                 NaN         NaN   \n",
       "max         9999.000000               NaN                 NaN         NaN   \n",
       "\n",
       "       Day_of_Week  Did_Police_Officer_Attend_Scene_of_Accident  ...  \\\n",
       "count       720280                                720279.000000  ...   \n",
       "unique           7                                          NaN  ...   \n",
       "top         Friday                                          NaN  ...   \n",
       "freq        119324                                          NaN  ...   \n",
       "mean           NaN                                     1.147353  ...   \n",
       "std            NaN                                     0.357791  ...   \n",
       "min            NaN                                     1.000000  ...   \n",
       "25%            NaN                                     1.000000  ...   \n",
       "50%            NaN                                     1.000000  ...   \n",
       "75%            NaN                                     1.000000  ...   \n",
       "max            NaN                                     3.000000  ...   \n",
       "\n",
       "       Sex_of_Driver Skidding_and_Overturning  Towing_and_Articulation  \\\n",
       "count         720280                   720280                   720280   \n",
       "unique             3                        6                        6   \n",
       "top             Male                     None      No tow/articulation   \n",
       "freq          484205                   659742                   713570   \n",
       "mean             NaN                      NaN                      NaN   \n",
       "std              NaN                      NaN                      NaN   \n",
       "min              NaN                      NaN                      NaN   \n",
       "25%              NaN                      NaN                      NaN   \n",
       "50%              NaN                      NaN                      NaN   \n",
       "75%              NaN                      NaN                      NaN   \n",
       "max              NaN                      NaN                      NaN   \n",
       "\n",
       "       Vehicle_Leaving_Carriageway Vehicle_Location.Restricted_Lane  \\\n",
       "count                       720280                    720269.000000   \n",
       "unique                           9                              NaN   \n",
       "top      Did not leave carriageway                              NaN   \n",
       "freq                        663463                              NaN   \n",
       "mean                           NaN                         0.086026   \n",
       "std                            NaN                         0.784117   \n",
       "min                            NaN                         0.000000   \n",
       "25%                            NaN                         0.000000   \n",
       "50%                            NaN                         0.000000   \n",
       "75%                            NaN                         0.000000   \n",
       "max                            NaN                         9.000000   \n",
       "\n",
       "        Vehicle_Manoeuvre  Vehicle_Reference  Vehicle_Type  \\\n",
       "count              720280      720280.000000        720280   \n",
       "unique                 18                NaN            20   \n",
       "top     Going ahead other                NaN           Car   \n",
       "freq               314008                NaN        534189   \n",
       "mean                  NaN           1.506420           NaN   \n",
       "std                   NaN           0.644346           NaN   \n",
       "min                   NaN           1.000000           NaN   \n",
       "25%                   NaN           1.000000           NaN   \n",
       "50%                   NaN           1.000000           NaN   \n",
       "75%                   NaN           2.000000           NaN   \n",
       "max                   NaN          91.000000           NaN   \n",
       "\n",
       "        Was_Vehicle_Left_Hand_Drive X1st_Point_of_Impact  \n",
       "count                        720280               720280  \n",
       "unique                            2                    5  \n",
       "top                              No                Front  \n",
       "freq                         719140               354438  \n",
       "mean                            NaN                  NaN  \n",
       "std                             NaN                  NaN  \n",
       "min                             NaN                  NaN  \n",
       "25%                             NaN                  NaN  \n",
       "50%                             NaN                  NaN  \n",
       "75%                             NaN                  NaN  \n",
       "max                             NaN                  NaN  \n",
       "\n",
       "[11 rows x 56 columns]"
      ]
     },
     "execution_count": 9,
     "metadata": {},
     "output_type": "execute_result"
    }
   ],
   "source": [
    "acci.describe(include ='all')"
   ]
  },
  {
   "cell_type": "code",
   "execution_count": 10,
   "metadata": {},
   "outputs": [
    {
     "name": "stdout",
     "output_type": "stream",
     "text": [
      "0.9994257015446176\n",
      "0.9999733124707395\n"
     ]
    }
   ],
   "source": [
    "print(acci['Location_Easting_OSGR'].corr(acci['Longitude']))\n",
    "\n",
    "print(acci['Location_Northing_OSGR'].corr(acci['Latitude']))"
   ]
  },
  {
   "cell_type": "code",
   "execution_count": 11,
   "metadata": {},
   "outputs": [],
   "source": [
    "acci = acci.drop(['Location_Easting_OSGR', 'Location_Northing_OSGR'], axis=1)"
   ]
  },
  {
   "cell_type": "code",
   "execution_count": 12,
   "metadata": {},
   "outputs": [
    {
     "data": {
      "text/plain": [
       "(720280, 54)"
      ]
     },
     "execution_count": 12,
     "metadata": {},
     "output_type": "execute_result"
    }
   ],
   "source": [
    "acci.shape"
   ]
  },
  {
   "cell_type": "code",
   "execution_count": 13,
   "metadata": {},
   "outputs": [],
   "source": [
    "acci.columns = map(str.lower, acci.columns)\n",
    "acci.columns = acci.columns.str.replace('.','')\n",
    "acci.columns = acci.columns.str.replace('(','')\n",
    "acci.columns = acci.columns.str.replace(')','')"
   ]
  },
  {
   "cell_type": "code",
   "execution_count": 14,
   "metadata": {},
   "outputs": [],
   "source": [
    "acci['date'] = pd.to_datetime((acci['date']), format= \"%Y-%m-%d\")"
   ]
  },
  {
   "cell_type": "code",
   "execution_count": 15,
   "metadata": {},
   "outputs": [],
   "source": [
    "acci[['did_police_officer_attend_scene_of_accident',\n",
    "    'driver_imd_decile','vehicle_reference',\n",
    "    'vehicle_locationrestricted_lane','1st_road_number',\n",
    "    '2nd_road_number','driver_imd_decile',\n",
    "    'pedestrian_crossing-physical_facilities',\n",
    "   'pedestrian_crossing-human_control']]= acci[['did_police_officer_attend_scene_of_accident',\n",
    "    'driver_imd_decile','vehicle_reference',\n",
    "    'vehicle_locationrestricted_lane','1st_road_number',\n",
    "    '2nd_road_number','driver_imd_decile',\n",
    "    'pedestrian_crossing-physical_facilities',\n",
    "   'pedestrian_crossing-human_control']].astype('object')"
   ]
  },
  {
   "cell_type": "code",
   "execution_count": 16,
   "metadata": {},
   "outputs": [
    {
     "data": {
      "text/plain": [
       "{datetime64[ns]: ['date'], int64: ['number_of_casualties', 'number_of_vehicles', 'year'], float64: ['latitude', 'longitude', 'speed_limit', 'age_of_vehicle', 'engine_capacity_cc'], object: ['accident_index', '1st_road_class', '1st_road_number', '2nd_road_class', '2nd_road_number', 'accident_severity', 'carriageway_hazards', 'day_of_week', 'did_police_officer_attend_scene_of_accident', 'junction_control', 'junction_detail', 'light_conditions', 'local_authority_district', 'local_authority_highway', 'lsoa_of_accident_location', 'pedestrian_crossing-human_control', 'pedestrian_crossing-physical_facilities', 'police_force', 'road_surface_conditions', 'road_type', 'special_conditions_at_site', 'time', 'urban_or_rural_area', 'weather_conditions', 'inscotland', 'age_band_of_driver', 'driver_home_area_type', 'driver_imd_decile', 'hit_object_in_carriageway', 'hit_object_off_carriageway', 'journey_purpose_of_driver', 'junction_location', 'make', 'model', 'propulsion_code', 'sex_of_driver', 'skidding_and_overturning', 'towing_and_articulation', 'vehicle_leaving_carriageway', 'vehicle_locationrestricted_lane', 'vehicle_manoeuvre', 'vehicle_reference', 'vehicle_type', 'was_vehicle_left_hand_drive', 'x1st_point_of_impact']}"
      ]
     },
     "execution_count": 16,
     "metadata": {},
     "output_type": "execute_result"
    }
   ],
   "source": [
    "acci.columns.to_series().groupby(acci.dtypes).groups"
   ]
  },
  {
   "cell_type": "code",
   "execution_count": 17,
   "metadata": {},
   "outputs": [
    {
     "data": {
      "text/plain": [
       "driver_imd_decile                              25.118565\n",
       "age_of_vehicle                                 15.287805\n",
       "model                                          11.636447\n",
       "engine_capacity_cc                             11.283251\n",
       "propulsion_code                                10.899928\n",
       "make                                            5.846476\n",
       "lsoa_of_accident_location                       5.674738\n",
       "2nd_road_class                                  2.894569\n",
       "2nd_road_number                                 1.291303\n",
       "pedestrian_crossing-physical_facilities         0.006109\n",
       "pedestrian_crossing-human_control               0.005276\n",
       "time                                            0.004582\n",
       "speed_limit                                     0.001805\n",
       "vehicle_locationrestricted_lane                 0.001527\n",
       "did_police_officer_attend_scene_of_accident     0.000139\n",
       "day_of_week                                     0.000000\n",
       "1st_road_class                                  0.000000\n",
       "number_of_vehicles                              0.000000\n",
       "number_of_casualties                            0.000000\n",
       "1st_road_number                                 0.000000\n",
       "longitude                                       0.000000\n",
       "local_authority_highway                         0.000000\n",
       "local_authority_district                        0.000000\n",
       "light_conditions                                0.000000\n",
       "accident_severity                               0.000000\n",
       "latitude                                        0.000000\n",
       "carriageway_hazards                             0.000000\n",
       "date                                            0.000000\n",
       "junction_detail                                 0.000000\n",
       "police_force                                    0.000000\n",
       "junction_control                                0.000000\n",
       "x1st_point_of_impact                            0.000000\n",
       "road_surface_conditions                         0.000000\n",
       "road_type                                       0.000000\n",
       "vehicle_type                                    0.000000\n",
       "vehicle_reference                               0.000000\n",
       "vehicle_manoeuvre                               0.000000\n",
       "vehicle_leaving_carriageway                     0.000000\n",
       "towing_and_articulation                         0.000000\n",
       "skidding_and_overturning                        0.000000\n",
       "sex_of_driver                                   0.000000\n",
       "junction_location                               0.000000\n",
       "journey_purpose_of_driver                       0.000000\n",
       "hit_object_off_carriageway                      0.000000\n",
       "hit_object_in_carriageway                       0.000000\n",
       "driver_home_area_type                           0.000000\n",
       "age_band_of_driver                              0.000000\n",
       "inscotland                                      0.000000\n",
       "year                                            0.000000\n",
       "weather_conditions                              0.000000\n",
       "urban_or_rural_area                             0.000000\n",
       "was_vehicle_left_hand_drive                     0.000000\n",
       "special_conditions_at_site                      0.000000\n",
       "accident_index                                  0.000000\n",
       "dtype: float64"
      ]
     },
     "execution_count": 17,
     "metadata": {},
     "output_type": "execute_result"
    }
   ],
   "source": [
    "acci.isnull().sum().sort_values(ascending=False)/acci.shape[0]*100"
   ]
  },
  {
   "cell_type": "code",
   "execution_count": 18,
   "metadata": {},
   "outputs": [
    {
     "data": {
      "text/plain": [
       "Unclassified    65.682512\n",
       "A               15.892292\n",
       "C                7.591909\n",
       "B                6.494558\n",
       "Motorway         1.301716\n",
       "A(M)             0.142445\n",
       "Name: 2nd_road_class, dtype: float64"
      ]
     },
     "execution_count": 18,
     "metadata": {},
     "output_type": "execute_result"
    }
   ],
   "source": [
    "acci['2nd_road_class'].value_counts()/acci.shape[0]*100"
   ]
  },
  {
   "cell_type": "code",
   "execution_count": 19,
   "metadata": {},
   "outputs": [],
   "source": [
    "acci = acci.drop(['2nd_road_class'], axis=1)"
   ]
  },
  {
   "cell_type": "code",
   "execution_count": 20,
   "metadata": {},
   "outputs": [
    {
     "data": {
      "text/plain": [
       "2.0     8.366469\n",
       "3.0     8.281640\n",
       "4.0     7.986339\n",
       "1.0     7.888321\n",
       "5.0     7.717554\n",
       "6.0     7.530683\n",
       "7.0     7.195674\n",
       "8.0     6.948270\n",
       "9.0     6.803049\n",
       "10.0    6.163436\n",
       "Name: driver_imd_decile, dtype: float64"
      ]
     },
     "execution_count": 20,
     "metadata": {},
     "output_type": "execute_result"
    }
   ],
   "source": [
    "acci['driver_imd_decile'].value_counts()/acci.shape[0]*100"
   ]
  },
  {
   "cell_type": "code",
   "execution_count": 21,
   "metadata": {},
   "outputs": [],
   "source": [
    "acci['driver_imd_decile'].fillna(method='ffill', inplace=True)"
   ]
  },
  {
   "cell_type": "code",
   "execution_count": 22,
   "metadata": {},
   "outputs": [
    {
     "data": {
      "text/plain": [
       "count    610165.000000\n",
       "mean          7.567473\n",
       "std           4.751567\n",
       "min           1.000000\n",
       "25%           4.000000\n",
       "50%           7.000000\n",
       "75%          11.000000\n",
       "max         105.000000\n",
       "Name: age_of_vehicle, dtype: float64"
      ]
     },
     "execution_count": 22,
     "metadata": {},
     "output_type": "execute_result"
    }
   ],
   "source": [
    "acci['age_of_vehicle'].describe()"
   ]
  },
  {
   "cell_type": "code",
   "execution_count": 23,
   "metadata": {},
   "outputs": [
    {
     "data": {
      "text/plain": [
       "7.0"
      ]
     },
     "execution_count": 23,
     "metadata": {},
     "output_type": "execute_result"
    }
   ],
   "source": [
    "acci['age_of_vehicle'].median()"
   ]
  },
  {
   "cell_type": "code",
   "execution_count": 24,
   "metadata": {},
   "outputs": [],
   "source": [
    "acci['age_of_vehicle'].fillna(7, inplace=True)\n",
    "\n",
    "def fixedvehicleage(age):\n",
    "    if age>=0 and age<=120:\n",
    "        return age\n",
    "    else:\n",
    "        return np.nan\n",
    "\n",
    "acci['age_of_vehicle'] = acci['age_of_vehicle'].apply(fixedvehicleage)\n",
    "acci['age_of_vehicle'] = pd.cut(acci['age_of_vehicle'],[0,2,5,8,11,14,17,120], labels=['1', '2', '3','4','5','6','7'])"
   ]
  },
  {
   "cell_type": "code",
   "execution_count": 25,
   "metadata": {},
   "outputs": [
    {
     "data": {
      "text/plain": [
       "MISSING                     0.743183\n",
       "KA                          0.336675\n",
       "CLIO DYNAMIQUE 16V          0.279058\n",
       "FIESTA ZETEC                0.247681\n",
       "SPRINTER 313 CDI            0.236158\n",
       "                              ...   \n",
       "ZAFIRA DESIGN DIRECT        0.000139\n",
       "106 XRAD                    0.000139\n",
       "RELAY 33 HDI 120 SWB        0.000139\n",
       "SCIROCCO R TSI              0.000139\n",
       "TR-PORTER T30 130 4M LWB    0.000139\n",
       "Name: model, Length: 28664, dtype: float64"
      ]
     },
     "execution_count": 25,
     "metadata": {},
     "output_type": "execute_result"
    }
   ],
   "source": [
    "acci['model'].value_counts()/acci.shape[0]*100"
   ]
  },
  {
   "cell_type": "code",
   "execution_count": 26,
   "metadata": {},
   "outputs": [
    {
     "data": {
      "text/plain": [
       "count      636465\n",
       "unique      28664\n",
       "top       MISSING\n",
       "freq         5353\n",
       "Name: model, dtype: object"
      ]
     },
     "execution_count": 26,
     "metadata": {},
     "output_type": "execute_result"
    }
   ],
   "source": [
    "acci['model'].describe()"
   ]
  },
  {
   "cell_type": "code",
   "execution_count": 27,
   "metadata": {},
   "outputs": [],
   "source": [
    "acci['model'].fillna(method='ffill', inplace=True)"
   ]
  },
  {
   "cell_type": "code",
   "execution_count": 28,
   "metadata": {},
   "outputs": [
    {
     "data": {
      "text/plain": [
       "count    639009.000000\n",
       "mean       1848.094816\n",
       "std        1573.057956\n",
       "min           2.000000\n",
       "25%        1248.000000\n",
       "50%        1598.000000\n",
       "75%        1995.000000\n",
       "max       91000.000000\n",
       "Name: engine_capacity_cc, dtype: float64"
      ]
     },
     "execution_count": 28,
     "metadata": {},
     "output_type": "execute_result"
    }
   ],
   "source": [
    "acci['engine_capacity_cc'].describe()"
   ]
  },
  {
   "cell_type": "code",
   "execution_count": 29,
   "metadata": {},
   "outputs": [
    {
     "name": "stdout",
     "output_type": "stream",
     "text": [
      "3115.5\n",
      "127.5\n"
     ]
    }
   ],
   "source": [
    "q75, q25 = np.percentile(acci['engine_capacity_cc'].dropna(), [75 ,25])\n",
    "iqr = q75 - q25\n",
    " \n",
    "ecmin = q25 - (iqr*1.5)\n",
    "ecmax = q75 + (iqr*1.5)\n",
    "\n",
    "print(ecmax)\n",
    "print(ecmin)"
   ]
  },
  {
   "cell_type": "code",
   "execution_count": 30,
   "metadata": {},
   "outputs": [],
   "source": [
    "acci = acci[acci['engine_capacity_cc']<=ecmax]"
   ]
  },
  {
   "cell_type": "code",
   "execution_count": 31,
   "metadata": {},
   "outputs": [],
   "source": [
    "acci = acci[acci['engine_capacity_cc']>=ecmin]"
   ]
  },
  {
   "cell_type": "code",
   "execution_count": 33,
   "metadata": {},
   "outputs": [
    {
     "data": {
      "text/plain": [
       "count    569057.000000\n",
       "mean       1633.351432\n",
       "std         473.765085\n",
       "min         128.000000\n",
       "25%        1299.000000\n",
       "50%        1598.000000\n",
       "75%        1968.000000\n",
       "max        3110.000000\n",
       "Name: engine_capacity_cc, dtype: float64"
      ]
     },
     "execution_count": 33,
     "metadata": {},
     "output_type": "execute_result"
    }
   ],
   "source": [
    "acci['engine_capacity_cc'].describe()"
   ]
  },
  {
   "cell_type": "code",
   "execution_count": 34,
   "metadata": {},
   "outputs": [
    {
     "data": {
      "text/plain": [
       "1633.3514322818276"
      ]
     },
     "execution_count": 34,
     "metadata": {},
     "output_type": "execute_result"
    }
   ],
   "source": [
    "acci['engine_capacity_cc'].mean()"
   ]
  },
  {
   "cell_type": "code",
   "execution_count": 35,
   "metadata": {},
   "outputs": [],
   "source": [
    "acci['engine_capacity_cc'].fillna(1652, inplace=True)"
   ]
  },
  {
   "cell_type": "code",
   "execution_count": 36,
   "metadata": {},
   "outputs": [
    {
     "data": {
      "text/plain": [
       "lsoa_of_accident_location                      5.902045\n",
       "2nd_road_number                                1.317618\n",
       "make                                           0.063087\n",
       "pedestrian_crossing-human_control              0.005448\n",
       "pedestrian_crossing-physical_facilities        0.005096\n",
       "time                                           0.003866\n",
       "vehicle_locationrestricted_lane                0.001406\n",
       "speed_limit                                    0.001230\n",
       "did_police_officer_attend_scene_of_accident    0.000176\n",
       "date                                           0.000000\n",
       "accident_severity                              0.000000\n",
       "road_type                                      0.000000\n",
       "road_surface_conditions                        0.000000\n",
       "police_force                                   0.000000\n",
       "1st_road_class                                 0.000000\n",
       "1st_road_number                                0.000000\n",
       "number_of_vehicles                             0.000000\n",
       "number_of_casualties                           0.000000\n",
       "longitude                                      0.000000\n",
       "day_of_week                                    0.000000\n",
       "local_authority_highway                        0.000000\n",
       "local_authority_district                       0.000000\n",
       "light_conditions                               0.000000\n",
       "special_conditions_at_site                     0.000000\n",
       "junction_detail                                0.000000\n",
       "carriageway_hazards                            0.000000\n",
       "junction_control                               0.000000\n",
       "latitude                                       0.000000\n",
       "x1st_point_of_impact                           0.000000\n",
       "was_vehicle_left_hand_drive                    0.000000\n",
       "urban_or_rural_area                            0.000000\n",
       "vehicle_type                                   0.000000\n",
       "vehicle_reference                              0.000000\n",
       "vehicle_manoeuvre                              0.000000\n",
       "vehicle_leaving_carriageway                    0.000000\n",
       "towing_and_articulation                        0.000000\n",
       "skidding_and_overturning                       0.000000\n",
       "sex_of_driver                                  0.000000\n",
       "propulsion_code                                0.000000\n",
       "model                                          0.000000\n",
       "junction_location                              0.000000\n",
       "journey_purpose_of_driver                      0.000000\n",
       "hit_object_off_carriageway                     0.000000\n",
       "hit_object_in_carriageway                      0.000000\n",
       "engine_capacity_cc                             0.000000\n",
       "driver_imd_decile                              0.000000\n",
       "driver_home_area_type                          0.000000\n",
       "age_of_vehicle                                 0.000000\n",
       "age_band_of_driver                             0.000000\n",
       "inscotland                                     0.000000\n",
       "year                                           0.000000\n",
       "weather_conditions                             0.000000\n",
       "accident_index                                 0.000000\n",
       "dtype: float64"
      ]
     },
     "execution_count": 36,
     "metadata": {},
     "output_type": "execute_result"
    }
   ],
   "source": [
    "acci.isnull().sum().sort_values(ascending=False)/acci.shape[0]*100"
   ]
  },
  {
   "cell_type": "code",
   "execution_count": 37,
   "metadata": {},
   "outputs": [
    {
     "data": {
      "text/plain": [
       "E01032739    440\n",
       "E01004736    412\n",
       "E01000004    410\n",
       "E01018648    303\n",
       "E01004689    261\n",
       "            ... \n",
       "E01001567      1\n",
       "E01028461      1\n",
       "E01026750      1\n",
       "E01014604      1\n",
       "E01033431      1\n",
       "Name: lsoa_of_accident_location, Length: 33936, dtype: int64"
      ]
     },
     "execution_count": 37,
     "metadata": {},
     "output_type": "execute_result"
    }
   ],
   "source": [
    "acci['lsoa_of_accident_location'].value_counts()"
   ]
  },
  {
   "cell_type": "code",
   "execution_count": 38,
   "metadata": {},
   "outputs": [
    {
     "data": {
      "text/plain": [
       "count        535471\n",
       "unique        33936\n",
       "top       E01032739\n",
       "freq            440\n",
       "Name: lsoa_of_accident_location, dtype: object"
      ]
     },
     "execution_count": 38,
     "metadata": {},
     "output_type": "execute_result"
    }
   ],
   "source": [
    "acci['lsoa_of_accident_location'].describe()"
   ]
  },
  {
   "cell_type": "code",
   "execution_count": 39,
   "metadata": {},
   "outputs": [],
   "source": [
    "acci['lsoa_of_accident_location'].fillna(method='ffill', inplace=True)"
   ]
  },
  {
   "cell_type": "code",
   "execution_count": 40,
   "metadata": {},
   "outputs": [
    {
     "data": {
      "text/plain": [
       "2nd_road_number                                1.317618\n",
       "make                                           0.063087\n",
       "pedestrian_crossing-human_control              0.005448\n",
       "pedestrian_crossing-physical_facilities        0.005096\n",
       "time                                           0.003866\n",
       "vehicle_locationrestricted_lane                0.001406\n",
       "speed_limit                                    0.001230\n",
       "did_police_officer_attend_scene_of_accident    0.000176\n",
       "carriageway_hazards                            0.000000\n",
       "longitude                                      0.000000\n",
       "road_type                                      0.000000\n",
       "road_surface_conditions                        0.000000\n",
       "police_force                                   0.000000\n",
       "1st_road_class                                 0.000000\n",
       "1st_road_number                                0.000000\n",
       "number_of_vehicles                             0.000000\n",
       "number_of_casualties                           0.000000\n",
       "lsoa_of_accident_location                      0.000000\n",
       "local_authority_highway                        0.000000\n",
       "date                                           0.000000\n",
       "local_authority_district                       0.000000\n",
       "light_conditions                               0.000000\n",
       "special_conditions_at_site                     0.000000\n",
       "junction_detail                                0.000000\n",
       "accident_severity                              0.000000\n",
       "junction_control                               0.000000\n",
       "day_of_week                                    0.000000\n",
       "latitude                                       0.000000\n",
       "x1st_point_of_impact                           0.000000\n",
       "was_vehicle_left_hand_drive                    0.000000\n",
       "urban_or_rural_area                            0.000000\n",
       "vehicle_type                                   0.000000\n",
       "vehicle_reference                              0.000000\n",
       "vehicle_manoeuvre                              0.000000\n",
       "vehicle_leaving_carriageway                    0.000000\n",
       "towing_and_articulation                        0.000000\n",
       "skidding_and_overturning                       0.000000\n",
       "sex_of_driver                                  0.000000\n",
       "propulsion_code                                0.000000\n",
       "model                                          0.000000\n",
       "junction_location                              0.000000\n",
       "journey_purpose_of_driver                      0.000000\n",
       "hit_object_off_carriageway                     0.000000\n",
       "hit_object_in_carriageway                      0.000000\n",
       "engine_capacity_cc                             0.000000\n",
       "driver_imd_decile                              0.000000\n",
       "driver_home_area_type                          0.000000\n",
       "age_of_vehicle                                 0.000000\n",
       "age_band_of_driver                             0.000000\n",
       "inscotland                                     0.000000\n",
       "year                                           0.000000\n",
       "weather_conditions                             0.000000\n",
       "accident_index                                 0.000000\n",
       "dtype: float64"
      ]
     },
     "execution_count": 40,
     "metadata": {},
     "output_type": "execute_result"
    }
   ],
   "source": [
    "acci.isnull().sum().sort_values(ascending=False)/acci.shape[0]*100"
   ]
  },
  {
   "cell_type": "code",
   "execution_count": 41,
   "metadata": {},
   "outputs": [
    {
     "data": {
      "text/plain": [
       "x1st_point_of_impact                           0.0\n",
       "speed_limit                                    0.0\n",
       "road_type                                      0.0\n",
       "road_surface_conditions                        0.0\n",
       "police_force                                   0.0\n",
       "pedestrian_crossing-physical_facilities        0.0\n",
       "pedestrian_crossing-human_control              0.0\n",
       "number_of_vehicles                             0.0\n",
       "number_of_casualties                           0.0\n",
       "lsoa_of_accident_location                      0.0\n",
       "longitude                                      0.0\n",
       "local_authority_highway                        0.0\n",
       "local_authority_district                       0.0\n",
       "light_conditions                               0.0\n",
       "latitude                                       0.0\n",
       "junction_detail                                0.0\n",
       "junction_control                               0.0\n",
       "did_police_officer_attend_scene_of_accident    0.0\n",
       "day_of_week                                    0.0\n",
       "date                                           0.0\n",
       "carriageway_hazards                            0.0\n",
       "accident_severity                              0.0\n",
       "2nd_road_number                                0.0\n",
       "1st_road_number                                0.0\n",
       "1st_road_class                                 0.0\n",
       "special_conditions_at_site                     0.0\n",
       "time                                           0.0\n",
       "was_vehicle_left_hand_drive                    0.0\n",
       "urban_or_rural_area                            0.0\n",
       "vehicle_type                                   0.0\n",
       "vehicle_reference                              0.0\n",
       "vehicle_manoeuvre                              0.0\n",
       "vehicle_locationrestricted_lane                0.0\n",
       "vehicle_leaving_carriageway                    0.0\n",
       "towing_and_articulation                        0.0\n",
       "skidding_and_overturning                       0.0\n",
       "sex_of_driver                                  0.0\n",
       "propulsion_code                                0.0\n",
       "model                                          0.0\n",
       "make                                           0.0\n",
       "junction_location                              0.0\n",
       "journey_purpose_of_driver                      0.0\n",
       "hit_object_off_carriageway                     0.0\n",
       "hit_object_in_carriageway                      0.0\n",
       "engine_capacity_cc                             0.0\n",
       "driver_imd_decile                              0.0\n",
       "driver_home_area_type                          0.0\n",
       "age_of_vehicle                                 0.0\n",
       "age_band_of_driver                             0.0\n",
       "inscotland                                     0.0\n",
       "year                                           0.0\n",
       "weather_conditions                             0.0\n",
       "accident_index                                 0.0\n",
       "dtype: float64"
      ]
     },
     "execution_count": 41,
     "metadata": {},
     "output_type": "execute_result"
    }
   ],
   "source": [
    "acci.dropna(inplace=True)\n",
    "\n",
    "acci.isnull().sum().sort_values(ascending=False)/acci.shape[0]*100"
   ]
  },
  {
   "cell_type": "markdown",
   "metadata": {},
   "source": [
    "# FEATURE MANIPULATION"
   ]
  },
  {
   "cell_type": "code",
   "execution_count": 42,
   "metadata": {},
   "outputs": [
    {
     "data": {
      "text/plain": [
       "(561135, 53)"
      ]
     },
     "execution_count": 42,
     "metadata": {},
     "output_type": "execute_result"
    }
   ],
   "source": [
    "acci.shape"
   ]
  },
  {
   "cell_type": "code",
   "execution_count": 43,
   "metadata": {},
   "outputs": [
    {
     "name": "stdout",
     "output_type": "stream",
     "text": [
      "<class 'pandas.core.frame.DataFrame'>\n",
      "Int64Index: 561135 entries, 0 to 720279\n",
      "Data columns (total 53 columns):\n",
      " #   Column                                       Non-Null Count   Dtype         \n",
      "---  ------                                       --------------   -----         \n",
      " 0   accident_index                               561135 non-null  object        \n",
      " 1   1st_road_class                               561135 non-null  object        \n",
      " 2   1st_road_number                              561135 non-null  object        \n",
      " 3   2nd_road_number                              561135 non-null  object        \n",
      " 4   accident_severity                            561135 non-null  object        \n",
      " 5   carriageway_hazards                          561135 non-null  object        \n",
      " 6   date                                         561135 non-null  datetime64[ns]\n",
      " 7   day_of_week                                  561135 non-null  object        \n",
      " 8   did_police_officer_attend_scene_of_accident  561135 non-null  object        \n",
      " 9   junction_control                             561135 non-null  object        \n",
      " 10  junction_detail                              561135 non-null  object        \n",
      " 11  latitude                                     561135 non-null  float64       \n",
      " 12  light_conditions                             561135 non-null  object        \n",
      " 13  local_authority_district                     561135 non-null  object        \n",
      " 14  local_authority_highway                      561135 non-null  object        \n",
      " 15  longitude                                    561135 non-null  float64       \n",
      " 16  lsoa_of_accident_location                    561135 non-null  object        \n",
      " 17  number_of_casualties                         561135 non-null  int64         \n",
      " 18  number_of_vehicles                           561135 non-null  int64         \n",
      " 19  pedestrian_crossing-human_control            561135 non-null  object        \n",
      " 20  pedestrian_crossing-physical_facilities      561135 non-null  object        \n",
      " 21  police_force                                 561135 non-null  object        \n",
      " 22  road_surface_conditions                      561135 non-null  object        \n",
      " 23  road_type                                    561135 non-null  object        \n",
      " 24  special_conditions_at_site                   561135 non-null  object        \n",
      " 25  speed_limit                                  561135 non-null  float64       \n",
      " 26  time                                         561135 non-null  object        \n",
      " 27  urban_or_rural_area                          561135 non-null  object        \n",
      " 28  weather_conditions                           561135 non-null  object        \n",
      " 29  year                                         561135 non-null  int64         \n",
      " 30  inscotland                                   561135 non-null  object        \n",
      " 31  age_band_of_driver                           561135 non-null  object        \n",
      " 32  age_of_vehicle                               561135 non-null  category      \n",
      " 33  driver_home_area_type                        561135 non-null  object        \n",
      " 34  driver_imd_decile                            561135 non-null  float64       \n",
      " 35  engine_capacity_cc                           561135 non-null  float64       \n",
      " 36  hit_object_in_carriageway                    561135 non-null  object        \n",
      " 37  hit_object_off_carriageway                   561135 non-null  object        \n",
      " 38  journey_purpose_of_driver                    561135 non-null  object        \n",
      " 39  junction_location                            561135 non-null  object        \n",
      " 40  make                                         561135 non-null  object        \n",
      " 41  model                                        561135 non-null  object        \n",
      " 42  propulsion_code                              561135 non-null  object        \n",
      " 43  sex_of_driver                                561135 non-null  object        \n",
      " 44  skidding_and_overturning                     561135 non-null  object        \n",
      " 45  towing_and_articulation                      561135 non-null  object        \n",
      " 46  vehicle_leaving_carriageway                  561135 non-null  object        \n",
      " 47  vehicle_locationrestricted_lane              561135 non-null  object        \n",
      " 48  vehicle_manoeuvre                            561135 non-null  object        \n",
      " 49  vehicle_reference                            561135 non-null  object        \n",
      " 50  vehicle_type                                 561135 non-null  object        \n",
      " 51  was_vehicle_left_hand_drive                  561135 non-null  object        \n",
      " 52  x1st_point_of_impact                         561135 non-null  object        \n",
      "dtypes: category(1), datetime64[ns](1), float64(5), int64(3), object(43)\n",
      "memory usage: 227.4+ MB\n"
     ]
    }
   ],
   "source": [
    "acci.info()"
   ]
  },
  {
   "cell_type": "code",
   "execution_count": 44,
   "metadata": {},
   "outputs": [
    {
     "data": {
      "text/plain": [
       "1     391938\n",
       "2     113736\n",
       "3      35451\n",
       "4      12511\n",
       "5       4621\n",
       "6       1739\n",
       "7        599\n",
       "8        243\n",
       "9        146\n",
       "10        52\n",
       "11        29\n",
       "12        28\n",
       "13        15\n",
       "16        10\n",
       "14         4\n",
       "15         3\n",
       "17         3\n",
       "24         2\n",
       "21         2\n",
       "19         1\n",
       "22         1\n",
       "43         1\n",
       "Name: number_of_casualties, dtype: int64"
      ]
     },
     "execution_count": 44,
     "metadata": {},
     "output_type": "execute_result"
    }
   ],
   "source": [
    "acci['number_of_casualties'].value_counts()"
   ]
  },
  {
   "cell_type": "code",
   "execution_count": 45,
   "metadata": {},
   "outputs": [],
   "source": [
    "def casualities(num_cas):\n",
    "    if num_cas >=1 and num_cas <2:\n",
    "        return \"1\"\n",
    "    elif num_cas >=2 and num_cas <3:\n",
    "        return \"2\"\n",
    "    elif num_cas >=3 and num_cas <4:\n",
    "        return \"3\"\n",
    "    elif num_cas >= 4 and num_cas <5:\n",
    "        return \"4\"\n",
    "    elif num_cas >= 5:\n",
    "        return \"5+\""
   ]
  },
  {
   "cell_type": "code",
   "execution_count": 46,
   "metadata": {},
   "outputs": [],
   "source": [
    "acci['number_of_casualties']= acci['number_of_casualties'].apply(casualities)"
   ]
  },
  {
   "cell_type": "code",
   "execution_count": 47,
   "metadata": {},
   "outputs": [
    {
     "data": {
      "text/plain": [
       "1     391938\n",
       "2     113736\n",
       "3      35451\n",
       "4      12511\n",
       "5+      7499\n",
       "Name: number_of_casualties, dtype: int64"
      ]
     },
     "execution_count": 47,
     "metadata": {},
     "output_type": "execute_result"
    }
   ],
   "source": [
    "acci['number_of_casualties'].value_counts()"
   ]
  },
  {
   "cell_type": "code",
   "execution_count": 48,
   "metadata": {},
   "outputs": [
    {
     "data": {
      "text/plain": [
       "accident_index                                 412838\n",
       "longitude                                      356283\n",
       "latitude                                       346962\n",
       "lsoa_of_accident_location                       33895\n",
       "model                                           25688\n",
       "2nd_road_number                                  5781\n",
       "1st_road_number                                  5088\n",
       "date                                             2557\n",
       "time                                             1439\n",
       "engine_capacity_cc                               1023\n",
       "local_authority_district                          380\n",
       "make                                              226\n",
       "local_authority_highway                           207\n",
       "police_force                                       51\n",
       "vehicle_manoeuvre                                  18\n",
       "vehicle_type                                       16\n",
       "number_of_vehicles                                 15\n",
       "vehicle_reference                                  15\n",
       "hit_object_in_carriageway                          12\n",
       "hit_object_off_carriageway                         12\n",
       "age_band_of_driver                                 11\n",
       "driver_imd_decile                                  10\n",
       "vehicle_locationrestricted_lane                    10\n",
       "propulsion_code                                    10\n",
       "weather_conditions                                  9\n",
       "junction_location                                   9\n",
       "vehicle_leaving_carriageway                         9\n",
       "junction_detail                                     9\n",
       "special_conditions_at_site                          8\n",
       "day_of_week                                         7\n",
       "journey_purpose_of_driver                           7\n",
       "year                                                7\n",
       "age_of_vehicle                                      7\n",
       "speed_limit                                         7\n",
       "carriageway_hazards                                 6\n",
       "pedestrian_crossing-physical_facilities             6\n",
       "towing_and_articulation                             6\n",
       "1st_road_class                                      6\n",
       "skidding_and_overturning                            6\n",
       "junction_control                                    5\n",
       "x1st_point_of_impact                                5\n",
       "light_conditions                                    5\n",
       "number_of_casualties                                5\n",
       "road_surface_conditions                             5\n",
       "road_type                                           5\n",
       "pedestrian_crossing-human_control                   3\n",
       "did_police_officer_attend_scene_of_accident         3\n",
       "accident_severity                                   3\n",
       "driver_home_area_type                               3\n",
       "sex_of_driver                                       3\n",
       "was_vehicle_left_hand_drive                         2\n",
       "urban_or_rural_area                                 2\n",
       "inscotland                                          2\n",
       "dtype: int64"
      ]
     },
     "execution_count": 48,
     "metadata": {},
     "output_type": "execute_result"
    }
   ],
   "source": [
    "acci.nunique().sort_values(ascending=False)"
   ]
  },
  {
   "cell_type": "code",
   "execution_count": 49,
   "metadata": {},
   "outputs": [],
   "source": [
    "acci['date'] = pd.to_datetime(acci['date'])"
   ]
  },
  {
   "cell_type": "code",
   "execution_count": 50,
   "metadata": {},
   "outputs": [],
   "source": [
    "acci['month'] = acci ['date'].apply(lambda time: time.month)"
   ]
  },
  {
   "cell_type": "code",
   "execution_count": 51,
   "metadata": {},
   "outputs": [],
   "source": [
    "acci['weekend']= np.where(acci['day_of_week'].isin(['Friday', 'Saturday', 'Sunday']), 1, 0)"
   ]
  },
  {
   "cell_type": "code",
   "execution_count": 52,
   "metadata": {},
   "outputs": [],
   "source": [
    "timeofdaygroups = {1: \"Morning Rush (6-10)\",\n",
    "                   2: \"Day (10-12)\",\n",
    "                   3: \"Lunch Rush (12-14)\",\n",
    "                   4: \"Afternoon (14-16)\",\n",
    "                   5: \"After Work Rush (16-18)\",\n",
    "                   6: \"Evening (18-22)\",\n",
    "                   7: \"Night (22-6)\"}"
   ]
  },
  {
   "cell_type": "code",
   "execution_count": 53,
   "metadata": {},
   "outputs": [],
   "source": [
    "acci['hour'] = acci['time'].str[0:2]\n",
    "acci['hour'] =  pd.to_numeric(acci['hour']\n",
    "acci['hour'] = acci['hour'].astype('int')"
   ]
  },
  {
   "cell_type": "code",
   "execution_count": 54,
   "metadata": {},
   "outputs": [],
   "source": [
    "def daygroup(hour):\n",
    "    if hour >= 6 and hour < 10:\n",
    "        return \"1\"\n",
    "    elif hour >= 10 and hour < 12:\n",
    "        return \"2\"\n",
    "    elif hour >= 12 and hour < 14:\n",
    "        return \"3\"\n",
    "    elif hour >= 14 and hour < 16:\n",
    "        return \"4\"\n",
    "    elif hour >= 16 and hour < 18:\n",
    "        return \"5\"\n",
    "    elif hour >= 18 and hour < 22:\n",
    "        return \"6\"\n",
    "    else:\n",
    "        return \"7\""
   ]
  },
  {
   "cell_type": "code",
   "execution_count": 55,
   "metadata": {},
   "outputs": [],
   "source": [
    "acci['time_of_day']= acci['hour'].apply(daygroup)"
   ]
  },
  {
   "cell_type": "code",
   "execution_count": 56,
   "metadata": {},
   "outputs": [
    {
     "data": {
      "text/html": [
       "<div>\n",
       "<style scoped>\n",
       "    .dataframe tbody tr th:only-of-type {\n",
       "        vertical-align: middle;\n",
       "    }\n",
       "\n",
       "    .dataframe tbody tr th {\n",
       "        vertical-align: top;\n",
       "    }\n",
       "\n",
       "    .dataframe thead th {\n",
       "        text-align: right;\n",
       "    }\n",
       "</style>\n",
       "<table border=\"1\" class=\"dataframe\">\n",
       "  <thead>\n",
       "    <tr style=\"text-align: right;\">\n",
       "      <th></th>\n",
       "      <th>weekend</th>\n",
       "      <th>day_of_week</th>\n",
       "      <th>time</th>\n",
       "      <th>time_of_day</th>\n",
       "    </tr>\n",
       "  </thead>\n",
       "  <tbody>\n",
       "    <tr>\n",
       "      <th>720270</th>\n",
       "      <td>0</td>\n",
       "      <td>Wednesday</td>\n",
       "      <td>08:45</td>\n",
       "      <td>1</td>\n",
       "    </tr>\n",
       "    <tr>\n",
       "      <th>720271</th>\n",
       "      <td>0</td>\n",
       "      <td>Wednesday</td>\n",
       "      <td>08:45</td>\n",
       "      <td>1</td>\n",
       "    </tr>\n",
       "    <tr>\n",
       "      <th>720272</th>\n",
       "      <td>0</td>\n",
       "      <td>Tuesday</td>\n",
       "      <td>18:12</td>\n",
       "      <td>6</td>\n",
       "    </tr>\n",
       "    <tr>\n",
       "      <th>720273</th>\n",
       "      <td>1</td>\n",
       "      <td>Sunday</td>\n",
       "      <td>11:00</td>\n",
       "      <td>2</td>\n",
       "    </tr>\n",
       "    <tr>\n",
       "      <th>720274</th>\n",
       "      <td>1</td>\n",
       "      <td>Sunday</td>\n",
       "      <td>11:00</td>\n",
       "      <td>2</td>\n",
       "    </tr>\n",
       "    <tr>\n",
       "      <th>720275</th>\n",
       "      <td>0</td>\n",
       "      <td>Monday</td>\n",
       "      <td>16:32</td>\n",
       "      <td>5</td>\n",
       "    </tr>\n",
       "    <tr>\n",
       "      <th>720276</th>\n",
       "      <td>0</td>\n",
       "      <td>Monday</td>\n",
       "      <td>16:32</td>\n",
       "      <td>5</td>\n",
       "    </tr>\n",
       "    <tr>\n",
       "      <th>720277</th>\n",
       "      <td>1</td>\n",
       "      <td>Friday</td>\n",
       "      <td>06:45</td>\n",
       "      <td>1</td>\n",
       "    </tr>\n",
       "    <tr>\n",
       "      <th>720278</th>\n",
       "      <td>0</td>\n",
       "      <td>Tuesday</td>\n",
       "      <td>16:45</td>\n",
       "      <td>5</td>\n",
       "    </tr>\n",
       "    <tr>\n",
       "      <th>720279</th>\n",
       "      <td>0</td>\n",
       "      <td>Tuesday</td>\n",
       "      <td>16:45</td>\n",
       "      <td>5</td>\n",
       "    </tr>\n",
       "  </tbody>\n",
       "</table>\n",
       "</div>"
      ],
      "text/plain": [
       "        weekend day_of_week   time time_of_day\n",
       "720270        0   Wednesday  08:45           1\n",
       "720271        0   Wednesday  08:45           1\n",
       "720272        0     Tuesday  18:12           6\n",
       "720273        1      Sunday  11:00           2\n",
       "720274        1      Sunday  11:00           2\n",
       "720275        0      Monday  16:32           5\n",
       "720276        0      Monday  16:32           5\n",
       "720277        1      Friday  06:45           1\n",
       "720278        0     Tuesday  16:45           5\n",
       "720279        0     Tuesday  16:45           5"
      ]
     },
     "execution_count": 56,
     "metadata": {},
     "output_type": "execute_result"
    }
   ],
   "source": [
    "acci[['weekend','day_of_week','time', 'time_of_day']].tail(10)"
   ]
  },
  {
   "cell_type": "code",
   "execution_count": 57,
   "metadata": {},
   "outputs": [
    {
     "data": {
      "text/plain": [
       "Car                                      86.052020\n",
       "Van / Goods 3.5 tonnes mgw or under       5.481212\n",
       "Motorcycle over 500cc                     3.999929\n",
       "Taxi/Private hire car                     2.932628\n",
       "Motorcycle over 125cc and up to 500cc     0.881428\n",
       "Motorcycle 125cc and under                0.178567\n",
       "Minibus (8 - 16 passenger seats)          0.140251\n",
       "Other vehicle                             0.131519\n",
       "Goods over 3.5t. and under 7.5t           0.083937\n",
       "Motorcycle 50cc and under                 0.043840\n",
       "Bus or coach (17 or more pass seats)      0.024771\n",
       "Goods vehicle - unknown weight            0.015326\n",
       "Goods 7.5 tonnes mgw and over             0.013188\n",
       "Motorcycle - unknown cc                   0.013009\n",
       "Agricultural vehicle                      0.007128\n",
       "Electric motorcycle                       0.001247\n",
       "Name: vehicle_type, dtype: float64"
      ]
     },
     "execution_count": 57,
     "metadata": {},
     "output_type": "execute_result"
    }
   ],
   "source": [
    "acci['vehicle_type'].value_counts()/acci.shape[0]*100"
   ]
  },
  {
   "cell_type": "code",
   "execution_count": 58,
   "metadata": {},
   "outputs": [],
   "source": [
    "acci['vehicle_type'] = acci['vehicle_type'].replace(to_replace=\"Motorcycle over 500cc\",value=\"Motorcycle\")\n",
    "acci['vehicle_type'] = acci['vehicle_type'].replace(to_replace=\"Motorcycle over 125cc and up to 500cc\",\n",
    "                                                        value=\"Motorcycle\")\n",
    "acci['vehicle_type'] = acci['vehicle_type'].replace(to_replace=\"Motorcycle 125cc and under\", value=\"Motorcycle\")\n",
    "\n",
    "acci['vehicle_type'] = acci['vehicle_type'].replace(to_replace=\"Motorcycle 50cc and under\", value=\"Motorcycle\")\n",
    "\n",
    "acci['vehicle_type'] = acci['vehicle_type'].replace(to_replace=\"Electric motorcycle\", value=\"Motorcycle\")\n",
    "\n",
    "acci['vehicle_type'] = acci['vehicle_type'].replace(to_replace=\"Motorcycle - unknown cc\", value=\"Motorcycle\")\n",
    "\n",
    "\n",
    "\n",
    "acci['vehicle_type'] = acci['vehicle_type'].replace(to_replace=\"Van / Goods 3.5 tonnes mgw or under\", \n",
    "                                                        value=\"Goods Vehicle\")\n",
    "acci['vehicle_type'] = acci['vehicle_type'].replace(to_replace=\"Goods over 3.5t. and under 7.5t\", value=\"Goods Vehicle\")\n",
    "\n",
    "acci['vehicle_type'] = acci['vehicle_type'].replace(to_replace=\"Goods vehicle - unknown weight\", value=\"Goods Vehicle\")\n",
    "\n",
    "acci['vehicle_type'] = acci['vehicle_type'].replace(to_replace=\"Goods 7.5 tonnes mgw and over\", value=\"Goods Vehicle\")\n",
    "\n",
    "#car\n",
    "acci['vehicle_type'] = acci['vehicle_type'].replace(to_replace=\"Taxi/Private hire car\", value=\"Car\")\n",
    "\n",
    "\n",
    "#bus\n",
    "acci['vehicle_type'] = acci['vehicle_type'].replace(to_replace=\"Minibus (8 - 16 passenger seats)\", value=\"Bus\")\n",
    "\n",
    "acci['vehicle_type'] = acci['vehicle_type'].replace(to_replace=\"Bus or coach (17 or more pass seats)\", value=\"Bus\")\n",
    "\n",
    "#other vehicle\n",
    "acci['vehicle_type'] = acci['vehicle_type'].replace(to_replace=\"Agricultural vehicle\", value=\"Other Vehicle\")\n",
    "\n",
    "acci['vehicle_type'] = acci['vehicle_type'].replace(to_replace=\"Other vehicle\", value=\"Other Vehicle\")"
   ]
  },
  {
   "cell_type": "code",
   "execution_count": 59,
   "metadata": {},
   "outputs": [
    {
     "data": {
      "text/plain": [
       "Car              88.984647\n",
       "Goods Vehicle     5.593663\n",
       "Motorcycle        5.118020\n",
       "Bus               0.165023\n",
       "Other Vehicle     0.138648\n",
       "Name: vehicle_type, dtype: float64"
      ]
     },
     "execution_count": 59,
     "metadata": {},
     "output_type": "execute_result"
    }
   ],
   "source": [
    "acci['vehicle_type'].value_counts()/acci.shape[0]*100"
   ]
  },
  {
   "cell_type": "code",
   "execution_count": 60,
   "metadata": {},
   "outputs": [
    {
     "data": {
      "text/plain": [
       "26 - 35    22.598662\n",
       "36 - 45    20.728345\n",
       "46 - 55    17.551213\n",
       "21 - 25    12.208827\n",
       "56 - 65    10.373796\n",
       "16 - 20     7.145696\n",
       "66 - 75     5.624850\n",
       "Over 75     3.757028\n",
       "11 - 15     0.011049\n",
       "6 - 10      0.000356\n",
       "0 - 5       0.000178\n",
       "Name: age_band_of_driver, dtype: float64"
      ]
     },
     "execution_count": 60,
     "metadata": {},
     "output_type": "execute_result"
    }
   ],
   "source": [
    "acci['age_band_of_driver'].value_counts()/acci.shape[0]*100"
   ]
  },
  {
   "cell_type": "code",
   "execution_count": 61,
   "metadata": {},
   "outputs": [
    {
     "data": {
      "text/plain": [
       "2     72.944835\n",
       "3     11.924403\n",
       "1     11.570121\n",
       "4      2.706122\n",
       "5      0.582747\n",
       "6      0.167874\n",
       "7      0.059166\n",
       "8      0.021385\n",
       "11     0.005881\n",
       "9      0.005881\n",
       "10     0.004277\n",
       "14     0.002317\n",
       "13     0.002139\n",
       "16     0.001782\n",
       "12     0.001069\n",
       "Name: number_of_vehicles, dtype: float64"
      ]
     },
     "execution_count": 61,
     "metadata": {},
     "output_type": "execute_result"
    }
   ],
   "source": [
    "acci['number_of_vehicles'].value_counts()/acci.shape[0]*100"
   ]
  },
  {
   "cell_type": "code",
   "execution_count": 62,
   "metadata": {},
   "outputs": [],
   "source": [
    "def vehicles(num_veh):\n",
    "    if num_veh >=1 and num_veh <2:\n",
    "        return \"1\"\n",
    "    elif num_veh >=2 and num_veh <3:\n",
    "        return \"2\"\n",
    "    elif num_veh >=3 and num_veh <4:\n",
    "        return \"3\"\n",
    "    elif num_veh >= 4: \n",
    "        return \"4+\"\n",
    "  \n",
    " \n",
    "acci['number_of_vehicles']= acci['number_of_vehicles'].apply(vehicles)"
   ]
  },
  {
   "cell_type": "code",
   "execution_count": 63,
   "metadata": {},
   "outputs": [
    {
     "data": {
      "text/plain": [
       "2     72.944835\n",
       "3     11.924403\n",
       "1     11.570121\n",
       "4+     3.560640\n",
       "Name: number_of_vehicles, dtype: float64"
      ]
     },
     "execution_count": 63,
     "metadata": {},
     "output_type": "execute_result"
    }
   ],
   "source": [
    "acci['number_of_vehicles'].value_counts()/acci.shape[0]*100"
   ]
  },
  {
   "cell_type": "code",
   "execution_count": 64,
   "metadata": {},
   "outputs": [
    {
     "data": {
      "text/plain": [
       "dtype('O')"
      ]
     },
     "execution_count": 64,
     "metadata": {},
     "output_type": "execute_result"
    }
   ],
   "source": [
    "acci['number_of_vehicles'].dtypes"
   ]
  },
  {
   "cell_type": "code",
   "execution_count": 65,
   "metadata": {},
   "outputs": [],
   "source": [
    "acci['number_of_vehicles']=acci['number_of_vehicles'].astype('object')"
   ]
  },
  {
   "cell_type": "code",
   "execution_count": 66,
   "metadata": {},
   "outputs": [],
   "source": [
    "def getSeason(month):\n",
    "    if (month == 12 or month == 1 or month == 2):\n",
    "        return \"winter\"\n",
    "    elif(month == 3 or month == 4 or month == 5):\n",
    "        return \"spring\"\n",
    "    elif(month == 6 or month== 7 or month == 8):\n",
    "        return \"summer\"\n",
    "    else:\n",
    "        return \"autumn\"\n",
    "\n",
    "acci['season'] = acci['month'].apply(getSeason)"
   ]
  },
  {
   "cell_type": "code",
   "execution_count": 67,
   "metadata": {},
   "outputs": [
    {
     "data": {
      "text/plain": [
       "autumn    27.065858\n",
       "summer    25.502241\n",
       "spring    24.624912\n",
       "winter    22.806989\n",
       "Name: season, dtype: float64"
      ]
     },
     "execution_count": 67,
     "metadata": {},
     "output_type": "execute_result"
    }
   ],
   "source": [
    "acci['season'].value_counts()/acci.shape[0]*100"
   ]
  },
  {
   "cell_type": "code",
   "execution_count": 69,
   "metadata": {},
   "outputs": [],
   "source": [
    "def enginecap(eng_cc):\n",
    "    if eng_cc <=1500:\n",
    "        return \"small engine cc\"\n",
    "    if eng_cc >1500 and eng_cc <=2000:\n",
    "        return \"medium engine cc\"\n",
    "    if eng_cc >2000:\n",
    "        return \"large engine cc\"\n",
    "\n",
    "\n",
    "acci['engine_capacity_cc_size'] = acci['engine_capacity_cc'].apply(enginecap)"
   ]
  },
  {
   "cell_type": "code",
   "execution_count": 70,
   "metadata": {},
   "outputs": [
    {
     "data": {
      "text/plain": [
       "medium engine cc    259881\n",
       "small engine cc     231031\n",
       "large engine cc      70223\n",
       "Name: engine_capacity_cc_size, dtype: int64"
      ]
     },
     "execution_count": 70,
     "metadata": {},
     "output_type": "execute_result"
    }
   ],
   "source": [
    "acci.engine_capacity_cc_size.value_counts()"
   ]
  },
  {
   "cell_type": "code",
   "execution_count": 71,
   "metadata": {},
   "outputs": [
    {
     "data": {
      "text/plain": [
       "Fine no high winds       82.022330\n",
       "Raining no high winds    11.536083\n",
       "Other                     1.658603\n",
       "Unknown                   1.375961\n",
       "Raining + high winds      1.170485\n",
       "Fine + high winds         1.129318\n",
       "Snowing no high winds     0.583282\n",
       "Fog or mist               0.441249\n",
       "Snowing + high winds      0.082690\n",
       "Name: weather_conditions, dtype: float64"
      ]
     },
     "execution_count": 71,
     "metadata": {},
     "output_type": "execute_result"
    }
   ],
   "source": [
    "acci['weather_conditions'].value_counts()/acci.shape[0]*100"
   ]
  },
  {
   "cell_type": "code",
   "execution_count": 72,
   "metadata": {},
   "outputs": [
    {
     "data": {
      "text/plain": [
       "(561135, 60)"
      ]
     },
     "execution_count": 72,
     "metadata": {},
     "output_type": "execute_result"
    }
   ],
   "source": [
    "acci['accident_seriousness'] = acci['accident_severity']\n",
    "\n",
    "acci['accident_seriousness'] = acci['accident_seriousness'].replace(to_replace=\"Slight\",value=\"Not Serious\")\n",
    "\n",
    "acci['accident_seriousness'] = acci['accident_seriousness'].replace(to_replace=\"Serious\",value=\"Serious\")\n",
    "\n",
    "acci['accident_seriousness'] = acci['accident_seriousness'].replace(to_replace=\"Fatal\", value=\"Serious\")\n",
    "acci.shape"
   ]
  },
  {
   "cell_type": "code",
   "execution_count": 73,
   "metadata": {},
   "outputs": [
    {
     "data": {
      "text/plain": [
       "Not Serious    492804\n",
       "Serious         68331\n",
       "Name: accident_seriousness, dtype: int64"
      ]
     },
     "execution_count": 73,
     "metadata": {},
     "output_type": "execute_result"
    }
   ],
   "source": [
    "acci.accident_seriousness.value_counts()"
   ]
  },
  {
   "cell_type": "code",
   "execution_count": 74,
   "metadata": {},
   "outputs": [],
   "source": [
    "acci.to_pickle(\"acci.pkl\")"
   ]
  },
  {
   "cell_type": "code",
   "execution_count": 75,
   "metadata": {},
   "outputs": [
    {
     "data": {
      "text/html": [
       "<div>\n",
       "<style scoped>\n",
       "    .dataframe tbody tr th:only-of-type {\n",
       "        vertical-align: middle;\n",
       "    }\n",
       "\n",
       "    .dataframe tbody tr th {\n",
       "        vertical-align: top;\n",
       "    }\n",
       "\n",
       "    .dataframe thead th {\n",
       "        text-align: right;\n",
       "    }\n",
       "</style>\n",
       "<table border=\"1\" class=\"dataframe\">\n",
       "  <thead>\n",
       "    <tr style=\"text-align: right;\">\n",
       "      <th></th>\n",
       "      <th>accident_index</th>\n",
       "      <th>1st_road_class</th>\n",
       "      <th>1st_road_number</th>\n",
       "      <th>2nd_road_number</th>\n",
       "      <th>accident_severity</th>\n",
       "      <th>carriageway_hazards</th>\n",
       "      <th>date</th>\n",
       "      <th>day_of_week</th>\n",
       "      <th>did_police_officer_attend_scene_of_accident</th>\n",
       "      <th>junction_control</th>\n",
       "      <th>...</th>\n",
       "      <th>vehicle_type</th>\n",
       "      <th>was_vehicle_left_hand_drive</th>\n",
       "      <th>x1st_point_of_impact</th>\n",
       "      <th>month</th>\n",
       "      <th>weekend</th>\n",
       "      <th>hour</th>\n",
       "      <th>time_of_day</th>\n",
       "      <th>season</th>\n",
       "      <th>engine_capacity_cc_size</th>\n",
       "      <th>accident_seriousness</th>\n",
       "    </tr>\n",
       "  </thead>\n",
       "  <tbody>\n",
       "    <tr>\n",
       "      <th>0</th>\n",
       "      <td>201001BS70003</td>\n",
       "      <td>B</td>\n",
       "      <td>302</td>\n",
       "      <td>0</td>\n",
       "      <td>Slight</td>\n",
       "      <td>None</td>\n",
       "      <td>2010-01-11</td>\n",
       "      <td>Monday</td>\n",
       "      <td>1</td>\n",
       "      <td>Give way or uncontrolled</td>\n",
       "      <td>...</td>\n",
       "      <td>Goods Vehicle</td>\n",
       "      <td>No</td>\n",
       "      <td>Front</td>\n",
       "      <td>1</td>\n",
       "      <td>0</td>\n",
       "      <td>7</td>\n",
       "      <td>1</td>\n",
       "      <td>winter</td>\n",
       "      <td>small engine cc</td>\n",
       "      <td>Not Serious</td>\n",
       "    </tr>\n",
       "    <tr>\n",
       "      <th>1</th>\n",
       "      <td>201001BS70004</td>\n",
       "      <td>A</td>\n",
       "      <td>402</td>\n",
       "      <td>4204</td>\n",
       "      <td>Slight</td>\n",
       "      <td>None</td>\n",
       "      <td>2010-01-11</td>\n",
       "      <td>Monday</td>\n",
       "      <td>1</td>\n",
       "      <td>Auto traffic signal</td>\n",
       "      <td>...</td>\n",
       "      <td>Car</td>\n",
       "      <td>No</td>\n",
       "      <td>Front</td>\n",
       "      <td>1</td>\n",
       "      <td>0</td>\n",
       "      <td>18</td>\n",
       "      <td>6</td>\n",
       "      <td>winter</td>\n",
       "      <td>medium engine cc</td>\n",
       "      <td>Not Serious</td>\n",
       "    </tr>\n",
       "    <tr>\n",
       "      <th>3</th>\n",
       "      <td>201001BS70007</td>\n",
       "      <td>Unclassified</td>\n",
       "      <td>0</td>\n",
       "      <td>0</td>\n",
       "      <td>Slight</td>\n",
       "      <td>None</td>\n",
       "      <td>2010-01-02</td>\n",
       "      <td>Saturday</td>\n",
       "      <td>1</td>\n",
       "      <td>Give way or uncontrolled</td>\n",
       "      <td>...</td>\n",
       "      <td>Car</td>\n",
       "      <td>No</td>\n",
       "      <td>Nearside</td>\n",
       "      <td>1</td>\n",
       "      <td>1</td>\n",
       "      <td>21</td>\n",
       "      <td>6</td>\n",
       "      <td>winter</td>\n",
       "      <td>medium engine cc</td>\n",
       "      <td>Not Serious</td>\n",
       "    </tr>\n",
       "    <tr>\n",
       "      <th>4</th>\n",
       "      <td>201001BS70007</td>\n",
       "      <td>Unclassified</td>\n",
       "      <td>0</td>\n",
       "      <td>0</td>\n",
       "      <td>Slight</td>\n",
       "      <td>None</td>\n",
       "      <td>2010-01-02</td>\n",
       "      <td>Saturday</td>\n",
       "      <td>1</td>\n",
       "      <td>Give way or uncontrolled</td>\n",
       "      <td>...</td>\n",
       "      <td>Car</td>\n",
       "      <td>No</td>\n",
       "      <td>Front</td>\n",
       "      <td>1</td>\n",
       "      <td>1</td>\n",
       "      <td>21</td>\n",
       "      <td>6</td>\n",
       "      <td>winter</td>\n",
       "      <td>small engine cc</td>\n",
       "      <td>Not Serious</td>\n",
       "    </tr>\n",
       "    <tr>\n",
       "      <th>5</th>\n",
       "      <td>201001BS70008</td>\n",
       "      <td>A</td>\n",
       "      <td>3217</td>\n",
       "      <td>3220</td>\n",
       "      <td>Slight</td>\n",
       "      <td>None</td>\n",
       "      <td>2010-01-04</td>\n",
       "      <td>Monday</td>\n",
       "      <td>1</td>\n",
       "      <td>Auto traffic signal</td>\n",
       "      <td>...</td>\n",
       "      <td>Car</td>\n",
       "      <td>No</td>\n",
       "      <td>Nearside</td>\n",
       "      <td>1</td>\n",
       "      <td>0</td>\n",
       "      <td>20</td>\n",
       "      <td>6</td>\n",
       "      <td>winter</td>\n",
       "      <td>medium engine cc</td>\n",
       "      <td>Not Serious</td>\n",
       "    </tr>\n",
       "  </tbody>\n",
       "</table>\n",
       "<p>5 rows × 60 columns</p>\n",
       "</div>"
      ],
      "text/plain": [
       "  accident_index 1st_road_class 1st_road_number 2nd_road_number  \\\n",
       "0  201001BS70003              B             302               0   \n",
       "1  201001BS70004              A             402            4204   \n",
       "3  201001BS70007   Unclassified               0               0   \n",
       "4  201001BS70007   Unclassified               0               0   \n",
       "5  201001BS70008              A            3217            3220   \n",
       "\n",
       "  accident_severity carriageway_hazards       date day_of_week  \\\n",
       "0            Slight                None 2010-01-11      Monday   \n",
       "1            Slight                None 2010-01-11      Monday   \n",
       "3            Slight                None 2010-01-02    Saturday   \n",
       "4            Slight                None 2010-01-02    Saturday   \n",
       "5            Slight                None 2010-01-04      Monday   \n",
       "\n",
       "  did_police_officer_attend_scene_of_accident          junction_control  ...  \\\n",
       "0                                           1  Give way or uncontrolled  ...   \n",
       "1                                           1       Auto traffic signal  ...   \n",
       "3                                           1  Give way or uncontrolled  ...   \n",
       "4                                           1  Give way or uncontrolled  ...   \n",
       "5                                           1       Auto traffic signal  ...   \n",
       "\n",
       "    vehicle_type  was_vehicle_left_hand_drive x1st_point_of_impact month  \\\n",
       "0  Goods Vehicle                           No                Front     1   \n",
       "1            Car                           No                Front     1   \n",
       "3            Car                           No             Nearside     1   \n",
       "4            Car                           No                Front     1   \n",
       "5            Car                           No             Nearside     1   \n",
       "\n",
       "  weekend  hour time_of_day  season engine_capacity_cc_size  \\\n",
       "0       0     7           1  winter         small engine cc   \n",
       "1       0    18           6  winter        medium engine cc   \n",
       "3       1    21           6  winter        medium engine cc   \n",
       "4       1    21           6  winter         small engine cc   \n",
       "5       0    20           6  winter        medium engine cc   \n",
       "\n",
       "  accident_seriousness  \n",
       "0          Not Serious  \n",
       "1          Not Serious  \n",
       "3          Not Serious  \n",
       "4          Not Serious  \n",
       "5          Not Serious  \n",
       "\n",
       "[5 rows x 60 columns]"
      ]
     },
     "execution_count": 75,
     "metadata": {},
     "output_type": "execute_result"
    }
   ],
   "source": [
    "acci = pd.read_pickle(\"acci.pkl\")\n",
    "acci.head()"
   ]
  }
 ],
 "metadata": {
  "kernelspec": {
   "display_name": "Python 3",
   "language": "python",
   "name": "python3"
  },
  "language_info": {
   "codemirror_mode": {
    "name": "ipython",
    "version": 3
   },
   "file_extension": ".py",
   "mimetype": "text/x-python",
   "name": "python",
   "nbconvert_exporter": "python",
   "pygments_lexer": "ipython3",
   "version": "3.8.5"
  }
 },
 "nbformat": 4,
 "nbformat_minor": 4
}
